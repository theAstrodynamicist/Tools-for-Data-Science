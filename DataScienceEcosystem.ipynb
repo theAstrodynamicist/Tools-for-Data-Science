{
 "cells": [
  {
   "cell_type": "markdown",
   "id": "a258f218",
   "metadata": {},
   "source": [
    "# Data Science Tools and Ecosystem"
   ]
  },
  {
   "cell_type": "markdown",
   "id": "53bd0ba5",
   "metadata": {},
   "source": [
    "## Author\n",
    "Kolade, Oluwatosin Moyinoluwalogo."
   ]
  },
  {
   "cell_type": "markdown",
   "id": "ecafac6d",
   "metadata": {},
   "source": [
    "##### In this notebook, Data Science Tools and Ecosystem are summarized."
   ]
  },
  {
   "cell_type": "markdown",
   "id": "74060470",
   "metadata": {},
   "source": [
    "###### **Objectives**:\n",
    "* Popular languages for data science\n",
    "* Libraries used in data science\n",
    "* Tools used in data science\n",
    "* Arithmetic operations"
   ]
  },
  {
   "cell_type": "markdown",
   "id": "e9e161b4",
   "metadata": {},
   "source": [
    "##### Some of the popular languages that Data Scientists use are:\n",
    "1. Python\n",
    "2. Julia\n",
    "3. R\n",
    "4. Matlab"
   ]
  },
  {
   "cell_type": "markdown",
   "id": "1937be38",
   "metadata": {},
   "source": [
    "##### Some of the commonly used libraries used by Data Scientists include:\n",
    "1. Pandas\n",
    "2. Scikit-learn\n",
    "3. Pytorch\n",
    "4. Numpy\n",
    "5. Matplotlib"
   ]
  },
  {
   "cell_type": "markdown",
   "id": "a3d33cc2",
   "metadata": {},
   "source": [
    "##### \n",
    "|Data Science Tools|\n",
    "|-|\n",
    "|Jupyter notebook|\n",
    "|RStudio|\n",
    "|Zeppelin notebook|"
   ]
  },
  {
   "cell_type": "markdown",
   "id": "95d2cf47",
   "metadata": {},
   "source": [
    "### Below are a few examples of evaluating arithmetic expressions in Python."
   ]
  },
  {
   "cell_type": "code",
   "execution_count": 10,
   "id": "6b86b3d5",
   "metadata": {},
   "outputs": [
    {
     "data": {
      "text/plain": [
       "17"
      ]
     },
     "execution_count": 10,
     "metadata": {},
     "output_type": "execute_result"
    }
   ],
   "source": [
    "# This is a simple arithmetic expression to multiply then add integers.\n",
    "\n",
    "(3*4)+5"
   ]
  },
  {
   "cell_type": "code",
   "execution_count": 9,
   "id": "4cd1502a",
   "metadata": {},
   "outputs": [
    {
     "data": {
      "text/plain": [
       "3.3333333333333335"
      ]
     },
     "execution_count": 9,
     "metadata": {},
     "output_type": "execute_result"
    }
   ],
   "source": [
    "# This will convert 200 minutes to hours by dividing by 60\n",
    "\n",
    "200/60"
   ]
  },
  {
   "cell_type": "code",
   "execution_count": null,
   "id": "3bbc3cca",
   "metadata": {},
   "outputs": [],
   "source": []
  }
 ],
 "metadata": {
  "kernelspec": {
   "display_name": "Python 3 (ipykernel)",
   "language": "python",
   "name": "python3"
  },
  "language_info": {
   "codemirror_mode": {
    "name": "ipython",
    "version": 3
   },
   "file_extension": ".py",
   "mimetype": "text/x-python",
   "name": "python",
   "nbconvert_exporter": "python",
   "pygments_lexer": "ipython3",
   "version": "3.9.13"
  }
 },
 "nbformat": 4,
 "nbformat_minor": 5
}
